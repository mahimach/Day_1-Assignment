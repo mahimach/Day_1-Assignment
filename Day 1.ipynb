{
 "cells": [
  {
   "cell_type": "code",
   "execution_count": 34,
   "id": "696bdfd8",
   "metadata": {},
   "outputs": [
    {
     "name": "stdout",
     "output_type": "stream",
     "text": [
      "Hello, World!\n"
     ]
    }
   ],
   "source": [
    "#Q1 Write a Python program that prints \"Hello, World!\" to the console. \n",
    "print(\"Hello, World!\")"
   ]
  },
  {
   "cell_type": "code",
   "execution_count": 35,
   "id": "68af60c9",
   "metadata": {},
   "outputs": [
    {
     "name": "stdout",
     "output_type": "stream",
     "text": [
      "Mahima\n",
      "23\n",
      "Play games\n"
     ]
    }
   ],
   "source": [
    "#Q2. Create variables to store your name, age, and favorite hobby. Print these variables.\n",
    "#created variables name, Age and fh(favorite hobby)\n",
    "name = 'Mahima'\n",
    "Age = 23\n",
    "fh = 'Play games'\n",
    "print(name)\n",
    "print(Age)\n",
    "print(fh)"
   ]
  },
  {
   "cell_type": "code",
   "execution_count": 37,
   "id": "726aa6a8",
   "metadata": {},
   "outputs": [
    {
     "name": "stdout",
     "output_type": "stream",
     "text": [
      "Enter a number :34\n",
      "The number is positive\n"
     ]
    }
   ],
   "source": [
    "#Q4. Write a Python program that takes an integer input from the user and prints whether the number is positive, negative, or zero. \n",
    "# created a user input and checking the condition\n",
    "num = int(input('Enter a number :'))\n",
    "if num > 0:\n",
    "    print('The number is positive')\n",
    "elif num < 0:\n",
    "    print('The number is Negative')\n",
    "else:\n",
    "    print('The number is zero')"
   ]
  },
  {
   "cell_type": "code",
   "execution_count": 38,
   "id": "4880f772",
   "metadata": {},
   "outputs": [
    {
     "name": "stdout",
     "output_type": "stream",
     "text": [
      "Enter a year :2025\n",
      "Given year is not a leap year\n"
     ]
    }
   ],
   "source": [
    "#Q5. Create a program that checks if a given year is a leap year.\n",
    "#created the user input of year number\n",
    "year = int(input('Enter a year :'))\n",
    "if year % 4 == 0:\n",
    "    print('Given year is leap year')\n",
    "else:\n",
    "    print('Given year is not a leap year')\n"
   ]
  },
  {
   "cell_type": "code",
   "execution_count": 39,
   "id": "1f6f8af4",
   "metadata": {},
   "outputs": [
    {
     "name": "stdout",
     "output_type": "stream",
     "text": [
      "1\n",
      "2\n",
      "3\n",
      "4\n",
      "5\n",
      "6\n",
      "7\n",
      "8\n",
      "9\n",
      "10\n"
     ]
    }
   ],
   "source": [
    "#Q6 . Write a Python program to print the first 10 natural numbers using a for loop\n",
    "for i in range(1,11):\n",
    "    print(i)"
   ]
  },
  {
   "cell_type": "code",
   "execution_count": 40,
   "id": "8e120c1f",
   "metadata": {},
   "outputs": [
    {
     "name": "stdout",
     "output_type": "stream",
     "text": [
      "5 x 1 = 5\n",
      "5 x 2 = 10\n",
      "5 x 3 = 15\n",
      "5 x 4 = 20\n",
      "5 x 5 = 25\n",
      "5 x 6 = 30\n",
      "5 x 7 = 35\n",
      "5 x 8 = 40\n",
      "5 x 9 = 45\n",
      "5 x 10 = 50\n"
     ]
    }
   ],
   "source": [
    "#Q7. Create a program that prints the multiplication table of a given number using a while loop. \n",
    "def multiplication_table(number):\n",
    "    i = 1\n",
    "    while i <= 10:\n",
    "        print(f\"{number} x {i} = {number * i}\")\n",
    "        i += 1\n",
    "\n",
    "# calling define function\n",
    "multiplication_table(5)\n"
   ]
  },
  {
   "cell_type": "code",
   "execution_count": 41,
   "id": "d5b4dec7",
   "metadata": {},
   "outputs": [
    {
     "name": "stdout",
     "output_type": "stream",
     "text": [
      "1\n",
      "2\n",
      "4\n",
      "5\n",
      "7\n",
      "8\n",
      "10\n"
     ]
    }
   ],
   "source": [
    "#Q8 . Write a Python program that iterates through numbers 1 to 10 and prints each number. Use the continue statement to skip numbers that are divisible by 3\n",
    "for number1 in range (1,11):\n",
    "    if number1 % 3 == 0:\n",
    "        continue\n",
    "    print(number1)"
   ]
  },
  {
   "cell_type": "code",
   "execution_count": 42,
   "id": "344131f9",
   "metadata": {},
   "outputs": [
    {
     "name": "stdout",
     "output_type": "stream",
     "text": [
      "1\n",
      "2\n",
      "3\n",
      "4\n",
      "5\n"
     ]
    }
   ],
   "source": [
    "#Q9 Create a program that stops printing numbers when it encounters a number greater than 5 using the break statement\n",
    "numbers = [1,2,3,4,5,6,7,8]\n",
    "for number in numbers:\n",
    "    if number > 5:\n",
    "        break\n",
    "    print(number)"
   ]
  },
  {
   "cell_type": "code",
   "execution_count": 44,
   "id": "e94b1086",
   "metadata": {},
   "outputs": [
    {
     "name": "stdout",
     "output_type": "stream",
     "text": [
      "Hello,Mahima!\n"
     ]
    }
   ],
   "source": [
    "#Q10 Define a function called greet that takes a name as an argument and prints \"Hello, [name]!\"\n",
    "def greet(name):\n",
    "    print(f'Hello,{name}!')\n",
    "greet('Mahima')"
   ]
  },
  {
   "cell_type": "code",
   "execution_count": 45,
   "id": "4a7f047e",
   "metadata": {},
   "outputs": [
    {
     "name": "stdout",
     "output_type": "stream",
     "text": [
      "5\n"
     ]
    }
   ],
   "source": [
    "#Q11. Create a function that takes two numbers as arguments and returns their sum\n",
    "def add_number(num1, num2):\n",
    "    return num1+ num2\n",
    "result = add_number(2,3)\n",
    "print(result)"
   ]
  },
  {
   "cell_type": "code",
   "execution_count": null,
   "id": "d37cecf2",
   "metadata": {},
   "outputs": [],
   "source": []
  }
 ],
 "metadata": {
  "kernelspec": {
   "display_name": "Python 3 (ipykernel)",
   "language": "python",
   "name": "python3"
  },
  "language_info": {
   "codemirror_mode": {
    "name": "ipython",
    "version": 3
   },
   "file_extension": ".py",
   "mimetype": "text/x-python",
   "name": "python",
   "nbconvert_exporter": "python",
   "pygments_lexer": "ipython3",
   "version": "3.9.12"
  }
 },
 "nbformat": 4,
 "nbformat_minor": 5
}
